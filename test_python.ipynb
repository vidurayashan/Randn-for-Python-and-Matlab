{
 "cells": [
  {
   "cell_type": "code",
   "execution_count": 7,
   "id": "014c3b0a",
   "metadata": {},
   "outputs": [],
   "source": [
    "import numpy as np\n",
    "from randn2 import randn2"
   ]
  },
  {
   "cell_type": "markdown",
   "id": "ad545a74",
   "metadata": {},
   "source": [
    "### Use the same Seed from Matlab"
   ]
  },
  {
   "cell_type": "code",
   "execution_count": 8,
   "id": "d5821daa",
   "metadata": {},
   "outputs": [],
   "source": [
    "seed_from_matlab = 43\n",
    "\n",
    "np.random.seed(seed_from_matlab)"
   ]
  },
  {
   "cell_type": "code",
   "execution_count": 9,
   "id": "2ca2880f",
   "metadata": {},
   "outputs": [
    {
     "name": "stdout",
     "output_type": "stream",
     "text": [
      "[[-1.2001  0.2769 -1.1105 -0.7044]\n",
      " [-0.4478  1.0765  0.4291  0.1034]\n",
      " [-1.8955  0.6242 -0.2664  0.849 ]\n",
      " [-0.6606 -1.5815  1.1107 -0.7687]\n",
      " [-0.2405 -0.4786 -1.4279  1.0078]]\n"
     ]
    }
   ],
   "source": [
    "print(randn2(5,4))"
   ]
  },
  {
   "cell_type": "code",
   "execution_count": 10,
   "id": "2a803621",
   "metadata": {},
   "outputs": [
    {
     "name": "stdout",
     "output_type": "stream",
     "text": [
      "[[ 1.0319  1.9028 -0.2914  1.69  ]\n",
      " [-0.1364  0.4392 -1.3884  1.2652]\n",
      " [-0.5302 -0.6363 -2.567   0.1085]\n",
      " [-0.0612  0.3488  2.018   1.3326]\n",
      " [ 1.3417  0.0633 -1.259  -0.9119]]\n"
     ]
    }
   ],
   "source": [
    "print(randn2(5,4))"
   ]
  },
  {
   "cell_type": "code",
   "execution_count": null,
   "id": "204dbc25",
   "metadata": {},
   "outputs": [],
   "source": []
  }
 ],
 "metadata": {
  "kernelspec": {
   "display_name": "Python 3 (ipykernel)",
   "language": "python",
   "name": "python3"
  },
  "language_info": {
   "codemirror_mode": {
    "name": "ipython",
    "version": 3
   },
   "file_extension": ".py",
   "mimetype": "text/x-python",
   "name": "python",
   "nbconvert_exporter": "python",
   "pygments_lexer": "ipython3",
   "version": "3.8.16"
  }
 },
 "nbformat": 4,
 "nbformat_minor": 5
}
